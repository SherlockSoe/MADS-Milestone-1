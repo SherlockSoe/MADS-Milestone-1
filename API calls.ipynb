{
 "cells": [
  {
   "cell_type": "code",
   "execution_count": 9,
   "metadata": {},
   "outputs": [],
   "source": [
    "import censusdata, pandas as pd\n",
    "\n",
    "def import_censusdata(year, variables):\n",
    "    census_data = censusdata.download('acs5', year, \n",
    "                                censusdata.censusgeo([('state','*'), ('county', '*')]), variables)\n",
    "\n",
    "    dictionary = {'B02001_001E':'Total Pop Estimate', 'B01001_006E':'Males 15-17',\\\n",
    "                  'B01001A_006E':'White Males 15-17','B01001B_006E':'Black Males 15-17', 'B01001I_006E':'Hispanic Males 15-17',\\\n",
    "                   'B19001_001E':'HHI', 'B19001_016E':'HHI 150K-200K','B19001A_001E':'HHI 220K+'}\n",
    "    census_data.rename(columns =dictionary, inplace=True)\n",
    "    \n",
    "    \n",
    "    for index, data in census_data.iterrows():\n",
    "        string_county = index.name.split(',')\n",
    "        census_data.loc[index,'County'], census_data.loc[index,'State']= string_county[0], string_county[1]\n",
    "\n",
    "       # print(string_county)\n",
    "    census_data.reset_index(drop=True,inplace=True)\n",
    "    census_dataframe = pd.DataFrame(census_data)\n",
    "\n",
    "    return census_dataframe.groupby(['State', 'County']).agg({'Total Pop Estimate':'sum',\n",
    "                                                                'Males 15-17':'sum', 'Black Males 15-17':'sum', 'Hispanic Males 15-17':'sum',\\\n",
    "                                                            'HHI 220K+':'sum'})\n",
    "\n",
    "males_census_2019df = import_censusdata(2019, ['B02001_001E', 'B01001_006E','B01001A_006E','B01001_006E' , 'B01001B_006E', 'B01001I_006E',\\\n",
    "                                                'B19001_001E', 'B19001_016E','B19001A_001E'])\n",
    "#males_census_2019df.sort_values(by = 'Males 15-17', ascending=False)\n"
   ]
  },
  {
   "cell_type": "code",
   "execution_count": 11,
   "metadata": {},
   "outputs": [],
   "source": [
    "import censusdata, pandas as pd\n",
    "\n",
    "def import_censusdata0(year, variables, geo_agg):\n",
    "    census_data = censusdata.download('acs5', year, \n",
    "                                censusdata.censusgeo([('state','*'), geo_agg]), variables)\n",
    "\n",
    "    dictionary = {'B02001_001E': 'Total Pop Estimate '+str(year), 'B19001_001E':'HHI', 'B19001_016E':'HHI 150K-200K','B19001A_001E':'HHI 220K+',\\\n",
    "    'B01001_006E':'Males 15-17', 'B01001A_006E':'White Males 15-17','B01001B_006E':'Black Males 15-17', 'B01001I_006E':'Hispanic Males 15-17',\\\n",
    "    'B01001_030E': 'Females 15-17', 'B01001A_021E':'White Females 15-17',' B01001B_021E':'Black Females 15-17','B01001I_021E': 'Hispanic Females 15-17'}\n",
    "    \n",
    "    census_data.rename(columns =dictionary, inplace=True)\n",
    "    for index, data in census_data.iterrows():\n",
    "        census_data.loc[index,'County'], census_data.loc[index,'State']= index.name, index.params()[0][1]\n",
    "\n",
    "    #census_data.reset_index(drop=True,inplace=True)\n",
    "    census_dataframe = pd.DataFrame(census_data)\n",
    "\n",
    "    return census_dataframe#.groupby(['State', 'County']).agg({'Total Pop Estimate'+str(year):'sum',\n",
    "                                                           #     'Males 15-17':'sum', 'Black Males 15-17':'sum', 'Hispanic Males 15-17':'sum',\\\n",
    "                                                           # 'HHI 220K+':'sum'})\n",
    "\n",
    "male_vars = ['B02001_001E', 'B01001_006E','B01001A_006E','B01001_006E' , 'B01001B_006E', 'B01001I_006E',\\\n",
    "                                                'B19001_001E', 'B19001_016E','B19001A_001E']\n",
    "\n",
    "female_vars = ['B02001_001E', 'B01001_030E', 'B01001A_021E','B01001B_021E','B01001I_021E']\n",
    "\n",
    "males_census_2019df = import_censusdata0(2019, male_vars, ('county', '*') )\n",
    "males_census_2018df = import_censusdata0(2018, male_vars, ('county', '*') )\n",
    "\n",
    "growth_trend = pd.concat([males_census_2019df['Total Pop Estimate 2019'], males_census_2018df['Total Pop Estimate 2018']], axis=1)\n",
    "growth_trend['% delta'] = growth_trend['Total Pop Estimate 2019'] / growth_trend['Total Pop Estimate 2018']\n"
   ]
  },
  {
   "cell_type": "code",
   "execution_count": 7,
   "metadata": {},
   "outputs": [],
   "source": [
    "#this variant uses groupings for the variables\n",
    "import requests\n",
    " \n",
    "class census_api:\n",
    "    baseurl = \"https://api.census.gov/data/2019/acs/acs5?get=NAME,group(B02001)&for=zip%20code%20tabulation%20area:*&in=state:*\"\n",
    "    \n",
    "    def __init__(self):\n",
    "        #self.paramx = {'dataset'}\n",
    "        self.resp = requests.get(self.baseurl).json()\n",
    "         \n",
    "    def output(self):\n",
    "        return self.resp\n",
    "census_header = census_api().output()"
   ]
  },
  {
   "cell_type": "code",
   "execution_count": 14,
   "metadata": {},
   "outputs": [
    {
     "name": "stdout",
     "output_type": "stream",
     "text": [
      "https://educationdata.urban.org/api/v1/schools/ccd/directory/2017/\n"
     ]
    }
   ],
   "source": [
    "def school_data(year, dataset, var, grade):\n",
    "    import urllib, json, pandas as pd\n",
    "    #dir(urllib3.request.urlencode)\n",
    "    if dataset == 'ccd':\n",
    "         url = \"https://educationdata.urban.org/api/v1/schools/\"+dataset+\"/\"+var+\"/\"+str(year)+\"/\"\n",
    "         \n",
    "    elif dataset == 'crdc':\n",
    "         url = \"https://educationdata.urban.org/api/v1/schools/\"+dataset+\"/\"+var+\"/\"+str(year)+\"/\"+grade+\"/race/sex/\"\n",
    "    print(url)\n",
    "    response = urllib.request.urlopen(url)\n",
    "    retention = json.loads(response.read())\n",
    "    return pd.json_normalize(retention, record_path= ['results'])\n",
    "\n",
    "retention2017 = school_data(2017, 'ccd','directory', False)\n"
   ]
  }
 ],
 "metadata": {
  "interpreter": {
   "hash": "957b2560371b1c7d801a409fa89b68f929b3932dd6ae0e3851e23e61fd4ebe9e"
  },
  "kernelspec": {
   "display_name": "Python 3.9.7 64-bit ('base': conda)",
   "language": "python",
   "name": "python3"
  },
  "language_info": {
   "codemirror_mode": {
    "name": "ipython",
    "version": 3
   },
   "file_extension": ".py",
   "mimetype": "text/x-python",
   "name": "python",
   "nbconvert_exporter": "python",
   "pygments_lexer": "ipython3",
   "version": "3.9.7"
  },
  "orig_nbformat": 4
 },
 "nbformat": 4,
 "nbformat_minor": 2
}
