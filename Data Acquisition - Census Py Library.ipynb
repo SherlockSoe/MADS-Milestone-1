{
 "cells": [
  {
   "cell_type": "markdown",
   "metadata": {},
   "source": [
    "# Acquire Data - US Census Data  via CensusData"
   ]
  },
  {
   "cell_type": "markdown",
   "metadata": {},
   "source": [
    "**Table of Contents**\n",
    "\n",
    "1. [Intro](#1.-Intro)\n",
    "2. [URL](#2.-URL)\n",
    "3. [Functions](#3.-Functions)"
   ]
  },
  {
   "cell_type": "markdown",
   "metadata": {},
   "source": [
    "## 1. Intro\n",
    "\n",
    "We used a Python library that uses the US Census Bureau API endpoints. It can be installed using pip and the following link has more information about it."
   ]
  },
  {
   "cell_type": "markdown",
   "metadata": {},
   "source": [
    "## 2. URL\n",
    "https://pypi.org/project/CensusData/. "
   ]
  },
  {
   "cell_type": "markdown",
   "metadata": {},
   "source": [
    "## 3. Functions"
   ]
  },
  {
   "cell_type": "code",
   "execution_count": 11,
   "metadata": {},
   "outputs": [],
   "source": [
    "import censusdata, pandas as pd\n",
    "import uszipcode\n",
    "from uszipcode import SearchEngine"
   ]
  },
  {
   "cell_type": "code",
   "execution_count": 8,
   "metadata": {},
   "outputs": [],
   "source": [
    "def import_censusdata(year):\n",
    "    '''This function leverages the CensusData Python library that pulls data from the Census repository.'''\n",
    "    #list of variables of interest for EDA  \n",
    "    dictionary = {'B02001_001E':'Total Pop Estimate', 'B19001_016E':'HHI 150K-200K','B19001_017E':'HHI 220K+',\\\n",
    "                  'B01001_006E':'Males 15-17', 'B01001_030E':'Females 15-17',\\\n",
    "                  'B01001A_006E':'White Males 15-17','B01001B_006E':'Black Males 15-17', 'B01001I_006E':'Hispanic Males 15-17',\\\n",
    "                  'B01001A_021E':'While Females 15-17', 'B01001B_021E':'Black Females 15-17', 'B01001I_021E': 'Hispanic Females 15-17'\n",
    "                  }\n",
    "    llaves = sorted(list(dictionary.keys()), reverse=True)\n",
    "    census_data = censusdata.download('acs5', year, censusdata.censusgeo([('state','*'), ('zip code tabulation area', '*')]), llaves)\n",
    "    census_data.rename(columns =dictionary, inplace=True)\n",
    "    census_data.reset_index(inplace=True)\n",
    "    census_data['zip code'] = census_data['index'].apply(lambda x: x.params()[1][1])\n",
    "    census_data['year'] = year\n",
    "    census_data.drop(columns = 'index', inplace=True)\n",
    "    census_dataframe = pd.DataFrame(census_data)\n",
    "    return census_dataframe\n"
   ]
  },
  {
   "cell_type": "code",
   "execution_count": 9,
   "metadata": {},
   "outputs": [],
   "source": [
    "def api_iterator(begin_year, end_year, function):\n",
    "    '''This function iterates over a range of years and pulls Census data by using the import_censusdata defined previously'''\n",
    "    consolidated_years = []\n",
    "    for year in range(begin_year, end_year):\n",
    "        all_years = function(year)\n",
    "        consolidated_years.append(all_years)\n",
    "    consolidated_years = pd.concat(consolidated_years)\n",
    "        #year_name = 'Census_'+ str(year)\n",
    "        #consolidated_years[year_name] = pd.DataFrame(import_censusdata(year))\n",
    "    consolidated_years.reset_index(inplace= True, drop=True)\n",
    "    return consolidated_years\n",
    "\n",
    "census_data = api_iterator(2015,2019, import_censusdata)"
   ]
  },
  {
   "cell_type": "code",
   "execution_count": null,
   "metadata": {},
   "outputs": [],
   "source": [
    "#save data census to a csv file\n",
    "census_data.to_csv('census raw.csv', index=False, sep ='\\t')"
   ]
  },
  {
   "cell_type": "code",
   "execution_count": null,
   "metadata": {},
   "outputs": [],
   "source": [
    "#create a helper table with all the state, cities and zip codes from the Census data. This table will be used to \n",
    "# create relationships in the postgresql database where all data will be warehoused\n",
    "\n",
    "def locale(data):\n",
    "    '''This functions relies on the uszipcode Python library and its SearchEngine function to link zip code values from the census\n",
    "    with their corresponding state and city information'''    \n",
    "\n",
    "    unique_zips = pd.DataFrame(data['zip code'].drop_duplicates())\n",
    "    unique_zips['state'] = unique_zips['zip code'].apply(lambda x: SearchEngine().by_zipcode(int(x)).state)\n",
    "    unique_zips['city'] = unique_zips['zip code'].apply(lambda x: SearchEngine().by_zipcode(int(x)).major_city)\n",
    "    return unique_zips\n",
    "\n",
    "local_data = locale(census_data)\n",
    "local_data.to_csv('zip to statecity.csv', index=False) #create csv file to load to the database"
   ]
  },
  {
   "cell_type": "markdown",
   "metadata": {},
   "source": []
  }
 ],
 "metadata": {
  "interpreter": {
   "hash": "957b2560371b1c7d801a409fa89b68f929b3932dd6ae0e3851e23e61fd4ebe9e"
  },
  "kernelspec": {
   "display_name": "Python 3.9.7 64-bit ('base': conda)",
   "language": "python",
   "name": "python3"
  },
  "language_info": {
   "codemirror_mode": {
    "name": "ipython",
    "version": 3
   },
   "file_extension": ".py",
   "mimetype": "text/x-python",
   "name": "python",
   "nbconvert_exporter": "python",
   "pygments_lexer": "ipython3",
   "version": "3.9.7"
  },
  "orig_nbformat": 4
 },
 "nbformat": 4,
 "nbformat_minor": 2
}
