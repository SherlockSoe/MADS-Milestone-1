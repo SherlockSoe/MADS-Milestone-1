{
 "cells": [
  {
   "cell_type": "code",
   "execution_count": 1,
   "metadata": {},
   "outputs": [],
   "source": [
    "import pandas as pd\n",
    "import requests\n",
    "import urllib, json, pandas as pd"
   ]
  },
  {
   "cell_type": "code",
   "execution_count": 2,
   "metadata": {},
   "outputs": [],
   "source": [
    "\n",
    "def school_data(year, dataset, var, grade):\n",
    "    base_url = \"https://educationdata.urban.org/api/v1/schools/\"\n",
    "    if (dataset, var) == ('ccd', 'directory'):\n",
    "         url = base_url+dataset+\"/\"+var+\"/\"+str(year)+\"/?school_level=3&school_status=1&school_type=1\"\n",
    "    elif (dataset, var) == ('ccd', 'enrollment'):\n",
    "         url = base_url+dataset+\"/\"+var+\"/\"+str(year)+\"/grade-\"+str(grade)+\"/\"\n",
    "    elif (dataset, var) == ('crdc', 'directory'):\n",
    "         url = base_url+dataset+\"/\"+var+\"/\"+str(year)+\"/\"\n",
    "    elif (dataset, var) == ('crdc', 'enrollment'):\n",
    "         url = base_url+dataset+\"/\"+var+\"/\"+str(year)+\"/race/sex/?race=99&sex=99\"\n",
    "    elif (dataset, var) == ('crdc', 'school-finance'):\n",
    "         url = base_url+dataset+\"/\"+var+\"/\"+str(year)+\"/\"\n",
    "    elif (dataset, var) == ('crdc', 'retention'):\n",
    "         url = base_url+dataset+\"/\"+var+\"/\"+str(year)+\"/grade-\"+str(grade)+\"/race/sex/?race=99&sex=99\"\n",
    "    elif (dataset, var) == ('crdc', 'sat-act-participation'):\n",
    "         url = base_url+dataset+\"/\"+var+\"/\"+str(year)+\"/race/sex/?race=99&sex=99\"\n",
    "\n",
    "    print(url)\n",
    "    df_lst = []\n",
    "    while True:\n",
    "         try:\n",
    "               response = urllib.request.urlopen(url)\n",
    "               retention = json.loads(response.read())\n",
    "               df = pd.json_normalize(retention, record_path= ['results'])\n",
    "               if response.getcode() == 200:\n",
    "                   break\n",
    "         except Exception as inst:\n",
    "               print (inst)\n",
    "    df_lst.append(df)\n",
    "    while retention['next'] != None:\n",
    "         url = retention['next']\n",
    "         print(url)\n",
    "         while True:\n",
    "               try:\n",
    "                    response = urllib.request.urlopen(url)\n",
    "                    retention = json.loads(response.read())\n",
    "                    df = pd.json_normalize(retention, record_path= ['results'])\n",
    "                    if response.getcode() == 200:\n",
    "                         break\n",
    "               except Exception as inst:\n",
    "                    print (inst)\n",
    "         df_lst.append(df)\n",
    "    return pd.concat(df_lst)\n"
   ]
  },
  {
   "cell_type": "code",
   "execution_count": 3,
   "metadata": {},
   "outputs": [
    {
     "name": "stdout",
     "output_type": "stream",
     "text": [
      "https://educationdata.urban.org/api/v1/schools/ccd/enrollment/2013/grade-10/\n",
      "https://educationdata.urban.org/api/v1/schools/ccd/enrollment/2013/grade-10/?page=2\n",
      "https://educationdata.urban.org/api/v1/schools/ccd/enrollment/2013/grade-10/?page=3\n",
      "https://educationdata.urban.org/api/v1/schools/ccd/enrollment/2013/grade-10/?page=4\n",
      "https://educationdata.urban.org/api/v1/schools/ccd/enrollment/2013/grade-10/?page=5\n",
      "https://educationdata.urban.org/api/v1/schools/ccd/enrollment/2013/grade-10/?page=6\n",
      "https://educationdata.urban.org/api/v1/schools/ccd/enrollment/2013/grade-10/?page=7\n",
      "https://educationdata.urban.org/api/v1/schools/ccd/enrollment/2013/grade-10/?page=8\n",
      "https://educationdata.urban.org/api/v1/schools/ccd/enrollment/2013/grade-10/?page=9\n",
      "https://educationdata.urban.org/api/v1/schools/ccd/enrollment/2015/grade-10/\n",
      "https://educationdata.urban.org/api/v1/schools/ccd/enrollment/2015/grade-10/?page=2\n",
      "https://educationdata.urban.org/api/v1/schools/ccd/enrollment/2015/grade-10/?page=3\n",
      "https://educationdata.urban.org/api/v1/schools/ccd/enrollment/2015/grade-10/?page=4\n",
      "https://educationdata.urban.org/api/v1/schools/ccd/enrollment/2015/grade-10/?page=5\n",
      "https://educationdata.urban.org/api/v1/schools/ccd/enrollment/2015/grade-10/?page=6\n",
      "https://educationdata.urban.org/api/v1/schools/ccd/enrollment/2015/grade-10/?page=7\n",
      "https://educationdata.urban.org/api/v1/schools/ccd/enrollment/2015/grade-10/?page=8\n",
      "https://educationdata.urban.org/api/v1/schools/ccd/enrollment/2015/grade-10/?page=9\n",
      "https://educationdata.urban.org/api/v1/schools/ccd/enrollment/2015/grade-10/?page=10\n",
      "https://educationdata.urban.org/api/v1/schools/ccd/enrollment/2017/grade-10/\n",
      "https://educationdata.urban.org/api/v1/schools/ccd/enrollment/2017/grade-10/?page=2\n",
      "https://educationdata.urban.org/api/v1/schools/ccd/enrollment/2017/grade-10/?page=3\n",
      "https://educationdata.urban.org/api/v1/schools/ccd/enrollment/2017/grade-10/?page=4\n",
      "https://educationdata.urban.org/api/v1/schools/ccd/enrollment/2017/grade-10/?page=5\n",
      "https://educationdata.urban.org/api/v1/schools/ccd/enrollment/2017/grade-10/?page=6\n",
      "https://educationdata.urban.org/api/v1/schools/ccd/enrollment/2017/grade-10/?page=7\n",
      "https://educationdata.urban.org/api/v1/schools/ccd/enrollment/2017/grade-10/?page=8\n",
      "https://educationdata.urban.org/api/v1/schools/ccd/enrollment/2017/grade-10/?page=9\n",
      "https://educationdata.urban.org/api/v1/schools/ccd/enrollment/2017/grade-10/?page=10\n",
      "https://educationdata.urban.org/api/v1/schools/ccd/enrollment/2017/grade-10/?page=11\n",
      "https://educationdata.urban.org/api/v1/schools/ccd/enrollment/2013/grade-11/\n",
      "https://educationdata.urban.org/api/v1/schools/ccd/enrollment/2013/grade-11/?page=2\n",
      "https://educationdata.urban.org/api/v1/schools/ccd/enrollment/2013/grade-11/?page=3\n",
      "https://educationdata.urban.org/api/v1/schools/ccd/enrollment/2013/grade-11/?page=4\n",
      "https://educationdata.urban.org/api/v1/schools/ccd/enrollment/2013/grade-11/?page=5\n",
      "https://educationdata.urban.org/api/v1/schools/ccd/enrollment/2013/grade-11/?page=6\n",
      "https://educationdata.urban.org/api/v1/schools/ccd/enrollment/2013/grade-11/?page=7\n",
      "https://educationdata.urban.org/api/v1/schools/ccd/enrollment/2013/grade-11/?page=8\n",
      "https://educationdata.urban.org/api/v1/schools/ccd/enrollment/2013/grade-11/?page=9\n",
      "https://educationdata.urban.org/api/v1/schools/ccd/enrollment/2015/grade-11/\n",
      "https://educationdata.urban.org/api/v1/schools/ccd/enrollment/2015/grade-11/?page=2\n",
      "https://educationdata.urban.org/api/v1/schools/ccd/enrollment/2015/grade-11/?page=3\n",
      "https://educationdata.urban.org/api/v1/schools/ccd/enrollment/2015/grade-11/?page=4\n",
      "https://educationdata.urban.org/api/v1/schools/ccd/enrollment/2015/grade-11/?page=5\n",
      "https://educationdata.urban.org/api/v1/schools/ccd/enrollment/2015/grade-11/?page=6\n",
      "https://educationdata.urban.org/api/v1/schools/ccd/enrollment/2015/grade-11/?page=7\n",
      "https://educationdata.urban.org/api/v1/schools/ccd/enrollment/2015/grade-11/?page=8\n",
      "https://educationdata.urban.org/api/v1/schools/ccd/enrollment/2015/grade-11/?page=9\n",
      "https://educationdata.urban.org/api/v1/schools/ccd/enrollment/2017/grade-11/\n",
      "https://educationdata.urban.org/api/v1/schools/ccd/enrollment/2017/grade-11/?page=2\n",
      "https://educationdata.urban.org/api/v1/schools/ccd/enrollment/2017/grade-11/?page=3\n",
      "https://educationdata.urban.org/api/v1/schools/ccd/enrollment/2017/grade-11/?page=4\n",
      "https://educationdata.urban.org/api/v1/schools/ccd/enrollment/2017/grade-11/?page=5\n",
      "https://educationdata.urban.org/api/v1/schools/ccd/enrollment/2017/grade-11/?page=6\n",
      "https://educationdata.urban.org/api/v1/schools/ccd/enrollment/2017/grade-11/?page=7\n",
      "https://educationdata.urban.org/api/v1/schools/ccd/enrollment/2017/grade-11/?page=8\n",
      "https://educationdata.urban.org/api/v1/schools/ccd/enrollment/2017/grade-11/?page=9\n",
      "https://educationdata.urban.org/api/v1/schools/ccd/enrollment/2017/grade-11/?page=10\n",
      "https://educationdata.urban.org/api/v1/schools/ccd/enrollment/2017/grade-11/?page=11\n"
     ]
    }
   ],
   "source": [
    "def get_ccd_multiple(lst, var, grade):\n",
    "    df_loop=[]\n",
    "    for y in lst:\n",
    "        d = school_data(y, 'ccd', var, grade)\n",
    "        df_loop.append(d)\n",
    "    return df_loop\n",
    "years = [2013, 2015, 2017]\n",
    "\n",
    "dfs_g10_enrollment = get_ccd_multiple(years, 'enrollment', 10)\n",
    "dfs_g11_enrollment = get_ccd_multiple(years, 'enrollment', 11)\n"
   ]
  },
  {
   "cell_type": "code",
   "execution_count": 4,
   "metadata": {},
   "outputs": [
    {
     "name": "stdout",
     "output_type": "stream",
     "text": [
      "(26840, 9)\n",
      "(27026, 9)\n",
      "(32248, 9)\n"
     ]
    }
   ],
   "source": [
    "i = 2013\n",
    "for df in dfs_g10_enrollment:\n",
    "    print(df.shape)\n",
    "    df.to_csv(\"./educationdata/ccd_g10_enrollment_\" + str(i) + \".csv\")\n",
    "    i+=2"
   ]
  },
  {
   "cell_type": "code",
   "execution_count": 5,
   "metadata": {},
   "outputs": [
    {
     "name": "stdout",
     "output_type": "stream",
     "text": [
      "(26715, 9)\n",
      "(26858, 9)\n",
      "(32234, 9)\n"
     ]
    }
   ],
   "source": [
    "i = 2013\n",
    "for df in dfs_g11_enrollment:\n",
    "    print(df.shape)\n",
    "    df.to_csv(\"./educationdata/ccd_g11_enrollment_\" + str(i) + \".csv\")\n",
    "    i+=2"
   ]
  },
  {
   "cell_type": "code",
   "execution_count": 6,
   "metadata": {},
   "outputs": [
    {
     "name": "stdout",
     "output_type": "stream",
     "text": [
      "https://educationdata.urban.org/api/v1/schools/ccd/enrollment/2013/grade-9/\n",
      "https://educationdata.urban.org/api/v1/schools/ccd/enrollment/2013/grade-9/?page=2\n",
      "https://educationdata.urban.org/api/v1/schools/ccd/enrollment/2013/grade-9/?page=3\n",
      "https://educationdata.urban.org/api/v1/schools/ccd/enrollment/2013/grade-9/?page=4\n",
      "https://educationdata.urban.org/api/v1/schools/ccd/enrollment/2013/grade-9/?page=5\n",
      "https://educationdata.urban.org/api/v1/schools/ccd/enrollment/2013/grade-9/?page=6\n",
      "https://educationdata.urban.org/api/v1/schools/ccd/enrollment/2013/grade-9/?page=7\n",
      "https://educationdata.urban.org/api/v1/schools/ccd/enrollment/2013/grade-9/?page=8\n",
      "https://educationdata.urban.org/api/v1/schools/ccd/enrollment/2013/grade-9/?page=9\n",
      "https://educationdata.urban.org/api/v1/schools/ccd/enrollment/2013/grade-9/?page=10\n",
      "https://educationdata.urban.org/api/v1/schools/ccd/enrollment/2015/grade-9/\n",
      "https://educationdata.urban.org/api/v1/schools/ccd/enrollment/2015/grade-9/?page=2\n",
      "https://educationdata.urban.org/api/v1/schools/ccd/enrollment/2015/grade-9/?page=3\n",
      "https://educationdata.urban.org/api/v1/schools/ccd/enrollment/2015/grade-9/?page=4\n",
      "https://educationdata.urban.org/api/v1/schools/ccd/enrollment/2015/grade-9/?page=5\n",
      "https://educationdata.urban.org/api/v1/schools/ccd/enrollment/2015/grade-9/?page=6\n",
      "https://educationdata.urban.org/api/v1/schools/ccd/enrollment/2015/grade-9/?page=7\n",
      "https://educationdata.urban.org/api/v1/schools/ccd/enrollment/2015/grade-9/?page=8\n",
      "https://educationdata.urban.org/api/v1/schools/ccd/enrollment/2015/grade-9/?page=9\n",
      "https://educationdata.urban.org/api/v1/schools/ccd/enrollment/2015/grade-9/?page=10\n",
      "https://educationdata.urban.org/api/v1/schools/ccd/enrollment/2017/grade-9/\n",
      "https://educationdata.urban.org/api/v1/schools/ccd/enrollment/2017/grade-9/?page=2\n",
      "https://educationdata.urban.org/api/v1/schools/ccd/enrollment/2017/grade-9/?page=3\n",
      "https://educationdata.urban.org/api/v1/schools/ccd/enrollment/2017/grade-9/?page=4\n",
      "https://educationdata.urban.org/api/v1/schools/ccd/enrollment/2017/grade-9/?page=5\n",
      "https://educationdata.urban.org/api/v1/schools/ccd/enrollment/2017/grade-9/?page=6\n",
      "https://educationdata.urban.org/api/v1/schools/ccd/enrollment/2017/grade-9/?page=7\n",
      "https://educationdata.urban.org/api/v1/schools/ccd/enrollment/2017/grade-9/?page=8\n",
      "https://educationdata.urban.org/api/v1/schools/ccd/enrollment/2017/grade-9/?page=9\n",
      "https://educationdata.urban.org/api/v1/schools/ccd/enrollment/2017/grade-9/?page=10\n",
      "https://educationdata.urban.org/api/v1/schools/ccd/enrollment/2017/grade-9/?page=11\n",
      "(27506, 9)\n",
      "(27793, 9)\n",
      "(32436, 9)\n"
     ]
    }
   ],
   "source": [
    "dfs_g9_enrollment = get_ccd_multiple(years, 'enrollment', 9)\n",
    "\n",
    "i = 2013\n",
    "for df in dfs_g9_enrollment:\n",
    "    print(df.shape)\n",
    "    df.to_csv(\"./educationdata/ccd_g9_enrollment_\" + str(i) + \".csv\")\n",
    "    i+=2"
   ]
  }
 ],
 "metadata": {
  "interpreter": {
   "hash": "e6631e5b5efcfb64c69618b824a0187d0c6dd06e4946956e89b217c7d063a10c"
  },
  "kernelspec": {
   "display_name": "Python 3.8.8 64-bit ('Data Science': conda)",
   "language": "python",
   "name": "python3"
  },
  "language_info": {
   "codemirror_mode": {
    "name": "ipython",
    "version": 3
   },
   "file_extension": ".py",
   "mimetype": "text/x-python",
   "name": "python",
   "nbconvert_exporter": "python",
   "pygments_lexer": "ipython3",
   "version": "3.8.8"
  },
  "orig_nbformat": 4
 },
 "nbformat": 4,
 "nbformat_minor": 2
}
