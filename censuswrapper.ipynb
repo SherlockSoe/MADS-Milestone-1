{
 "cells": [
  {
   "cell_type": "code",
   "execution_count": null,
   "metadata": {},
   "outputs": [],
   "source": [
    "import censusdata, pandas as pd\n",
    "\n",
    "def import_censusdata(year, variables):\n",
    "    census_data = censusdata.download('acs5', year, \n",
    "                                censusdata.censusgeo([('state','*'), ('county', '*')]), variables)\n",
    "\n",
    "    dictionary = {'B02001_001E':'Total Pop Estimate', 'B01001_006E':'Males 15-17',\\\n",
    "                  'B01001A_006E':'White Males 15-17','B01001B_006E':'Black Males 15-17', \\\n",
    "                      'B01001I_006E':'Hispanic Males 15-17',\\\n",
    "                   'B19001_001E':'HHI', 'B19001_016E':'HHI 150K-200K','B19001A_001E':'HHI 220K+'}\n",
    "    census_data.rename(columns =dictionary, inplace=True)\n",
    "    \n",
    "    \n",
    "    for index, data in census_data.iterrows():\n",
    "        string_county = index.name.split(',')\n",
    "        census_data.loc[index,'County'], census_data.loc[index,'State']= string_county[0], string_county[1]\n",
    "\n",
    "       # print(string_county)\n",
    "    census_data.reset_index(drop=True,inplace=True)\n",
    "    census_dataframe = pd.DataFrame(census_data)\n",
    "\n",
    "    return census_dataframe.groupby(['State', 'County']).agg({'Total Pop Estimate':'sum',\n",
    "                                                                'Males 15-17':'sum', 'Black Males 15-17':'sum', 'Hispanic Males 15-17':'sum',\\\n",
    "                                                            'HHI 220K+':'sum'})\n",
    "\n",
    "males_census_2019df = import_censusdata(2019, ['B02001_001E', 'B01001_006E','B01001A_006E','B01001_006E' , 'B01001B_006E', 'B01001I_006E',\\\n",
    "                                                'B19001_001E', 'B19001_016E','B19001A_001E'])\n",
    "# males_census_2019df.sort_values(by = 'Males 15-17', ascending=False)"
   ]
  }
 ],
 "metadata": {
  "language_info": {
   "name": "python"
  },
  "orig_nbformat": 4
 },
 "nbformat": 4,
 "nbformat_minor": 2
}
