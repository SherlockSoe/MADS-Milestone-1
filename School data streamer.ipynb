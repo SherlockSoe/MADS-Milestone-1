{
 "cells": [
  {
   "cell_type": "code",
   "execution_count": null,
   "metadata": {},
   "outputs": [],
   "source": [
    "import pandas as pd\n",
    "def school_data(year,  source, topic):\n",
    "    import urllib, json, pandas as pd, requests, progressbar, sys\n",
    "    base_url =  \"https://educationdata.urban.org/api/v1/schools/\"\n",
    "    if (source, topic) in {('ccd', 'directory'), ('crdc', 'directory'), ('crdc', 'school-finance')}:\n",
    "         url = base_url+source+\"/\"+topic+\"/\"+str(year)+\"/\"\n",
    "    elif (source, topic) in {('ccd', 'enrollment'), ('crdc', 'retention')}:\n",
    "         url = base_url+source+\"/\"+topic+\"/\"+str(year)+\"/\"+str(grade)+\"/race/sex/\"\n",
    "    elif (source, topic) in {('crdc', 'enrollment'), ('crdc', 'sat-act-participation')}:\n",
    "         url = base_url+source+\"/\"+topic+\"/\"+str(year)+\"/race/sex/\"\n",
    "    \n",
    "    response = requests.get(url, stream=True)#Streaming data into bytes\n",
    "    data = response.json()\n",
    "    print(url, \"number of records: {}, number of pages: {}\".format(data['count'], data['count']/3000))\n",
    "    i = 1\n",
    "    target_file = open('crcd_SAT.txt', 'wb')\n",
    "    #for page_num in range(1,3):\n",
    "    while data['next'] is not None: \n",
    "        i += 1\n",
    "        url1 = url+\"?page=\"+str(i)\n",
    "        print(' page', i, url1)\n",
    "        response = requests.get(url1, stream =True)\n",
    "        for chunk in response.iter_content(chunk_size= 1024*1000):#--->chunk bytes into ios\n",
    "            target_file.write(chunk)#---->save ios to text file to use with PostgresSQL database on the cloud to collaborate \n",
    "\n",
    "    target_file.close()\n",
    "    return target_file\n",
    "    \n",
    "source, topic =  'ccd', 'directory'\n",
    "year_begin= 2015\n",
    "year_end= 2016\n",
    "\n",
    "\n",
    "crcd_SAT = school_data1(year_begin, 'crdc','sat-act-participation')\n",
    "crcd_SAT"
   ]
  }
 ],
 "metadata": {
  "language_info": {
   "name": "python"
  },
  "orig_nbformat": 4
 },
 "nbformat": 4,
 "nbformat_minor": 2
}
