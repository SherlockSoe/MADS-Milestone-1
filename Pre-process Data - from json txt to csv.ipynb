{
 "cells": [
  {
   "cell_type": "markdown",
   "metadata": {},
   "source": [
    "# Pre-process Data - Transform JSON data to dataframe"
   ]
  },
  {
   "cell_type": "markdown",
   "metadata": {},
   "source": [
    "**Table of Contents**\n",
    "\n",
    "1. [Intro](#1.-Intro)\n",
    "2. [Functions](#2.-Functions)"
   ]
  },
  {
   "cell_type": "markdown",
   "metadata": {},
   "source": [
    "## 1. Intro\n",
    "\n",
    "This notebook transform the raw data from both the US Census and Department of Education and transform it from JSON to a csv file. The objective is to flatten de data files so that they can be loaded to a PostgreSQL database on the next phase of the data pipeline."
   ]
  },
  {
   "cell_type": "markdown",
   "metadata": {},
   "source": [
    "## 2. Functions"
   ]
  },
  {
   "cell_type": "code",
   "execution_count": 2,
   "metadata": {},
   "outputs": [],
   "source": [
    "import json\n",
    "import pandas as pd"
   ]
  },
  {
   "cell_type": "code",
   "execution_count": 12,
   "metadata": {},
   "outputs": [],
   "source": [
    "def json_to_flat(data_source1, topic):\n",
    "    #remove import statements from within the function a load at the top\n",
    "\n",
    "    '''This function formats the downloaded data into a flat file that can be used to construct a \n",
    "    postgresql database'''   \n",
    "\n",
    "    dir_file = open(data_source1, 'r')\n",
    "    dir_lines = dir_file.readlines()\n",
    "    #new_dict = ['year', 'ncessch', 'school_id', 'city_mailing', 'state_mailing', 'zip_mailing', 'latitude', 'longitude', 'county_code', 'school_level', 'school_status']\n",
    "    #key_filter = lambda x, y: dict([(i, x[i]) for i in x if i in set(y)])\n",
    "    dir_df = pd.DataFrame()\n",
    "    \n",
    "    if topic in ['enrollment', 'directory']:\n",
    "        for line in dir_lines:\n",
    "            json_loads = json.loads(line)\n",
    "            high_schools = json_loads['results']\n",
    "            dir_df = pd.concat([dir_df, pd.DataFrame(high_schools)])\n",
    "    elif topic == 'SAT':\n",
    "        for line in dir_lines:\n",
    "            json_loads = json.loads(line)\n",
    "            high_schools = [school for school in json_loads['results'] if school['students_SAT_ACT']!= -1 and school['students_SAT_ACT']!= -2]\n",
    "            dir_df = pd.concat([dir_df, pd.DataFrame(high_schools) ])\n",
    "\n",
    "    return dir_df\n",
    "\n",
    "school_directory = json_to_flat('school_directory.txt', 'directory')\n",
    "school_enrollment = json_to_flat('crcd_enrollment.txt', 'enrollment')\n",
    "sat2017 = json_to_flat('crcd_SAT_2017.txt', 'SAT')"
   ]
  },
  {
   "cell_type": "code",
   "execution_count": 10,
   "metadata": {},
   "outputs": [
    {
     "ename": "NameError",
     "evalue": "name 'school_enrollment' is not defined",
     "output_type": "error",
     "traceback": [
      "\u001b[1;31m---------------------------------------------------------------------------\u001b[0m",
      "\u001b[1;31mNameError\u001b[0m                                 Traceback (most recent call last)",
      "\u001b[1;32m~\\AppData\\Local\\Temp/ipykernel_21228/858988842.py\u001b[0m in \u001b[0;36m<module>\u001b[1;34m\u001b[0m\n\u001b[0;32m      1\u001b[0m \u001b[0mschool_directory\u001b[0m\u001b[1;33m[\u001b[0m\u001b[1;34m'ncessch'\u001b[0m\u001b[1;33m]\u001b[0m\u001b[1;33m=\u001b[0m \u001b[0mpd\u001b[0m\u001b[1;33m.\u001b[0m\u001b[0mto_numeric\u001b[0m\u001b[1;33m(\u001b[0m\u001b[0mschool_directory\u001b[0m\u001b[1;33m[\u001b[0m\u001b[1;34m'ncessch'\u001b[0m\u001b[1;33m]\u001b[0m\u001b[1;33m,\u001b[0m \u001b[0mdowncast\u001b[0m\u001b[1;33m=\u001b[0m\u001b[1;34m'integer'\u001b[0m\u001b[1;33m)\u001b[0m\u001b[1;33m\u001b[0m\u001b[1;33m\u001b[0m\u001b[0m\n\u001b[0;32m      2\u001b[0m \u001b[0mschool_directory\u001b[0m\u001b[1;33m.\u001b[0m\u001b[0mto_csv\u001b[0m\u001b[1;33m(\u001b[0m\u001b[1;34m'ccd_school_directory.csv'\u001b[0m\u001b[1;33m,\u001b[0m \u001b[0mindex\u001b[0m\u001b[1;33m=\u001b[0m\u001b[1;32mFalse\u001b[0m\u001b[1;33m)\u001b[0m\u001b[1;33m\u001b[0m\u001b[1;33m\u001b[0m\u001b[0m\n\u001b[1;32m----> 3\u001b[1;33m \u001b[0mschool_enrollment\u001b[0m\u001b[1;33m.\u001b[0m\u001b[0mto_csv\u001b[0m\u001b[1;33m(\u001b[0m\u001b[1;34m'crcd_school_enrollment.csv'\u001b[0m\u001b[1;33m,\u001b[0m \u001b[0mindex\u001b[0m\u001b[1;33m=\u001b[0m\u001b[1;32mFalse\u001b[0m\u001b[1;33m)\u001b[0m\u001b[1;33m\u001b[0m\u001b[1;33m\u001b[0m\u001b[0m\n\u001b[0m\u001b[0;32m      4\u001b[0m \u001b[0msat2017\u001b[0m\u001b[1;33m.\u001b[0m\u001b[0mto_csv\u001b[0m\u001b[1;33m(\u001b[0m\u001b[1;34m'SAT_2017.csv'\u001b[0m\u001b[1;33m,\u001b[0m \u001b[0mindex\u001b[0m\u001b[1;33m=\u001b[0m\u001b[1;32mFalse\u001b[0m\u001b[1;33m)\u001b[0m\u001b[1;33m\u001b[0m\u001b[1;33m\u001b[0m\u001b[0m\n",
      "\u001b[1;31mNameError\u001b[0m: name 'school_enrollment' is not defined"
     ]
    }
   ],
   "source": [
    "school_directory.to_csv('ccd_school_directory.csv', index=False)\n",
    "school_enrollment.to_csv('crcd_school_enrollment.csv', index=False)\n",
    "sat2017.to_csv('SAT_2017.csv', index=False)"
   ]
  }
 ],
 "metadata": {
  "interpreter": {
   "hash": "957b2560371b1c7d801a409fa89b68f929b3932dd6ae0e3851e23e61fd4ebe9e"
  },
  "kernelspec": {
   "display_name": "Python 3.9.7 64-bit ('base': conda)",
   "language": "python",
   "name": "python3"
  },
  "language_info": {
   "codemirror_mode": {
    "name": "ipython",
    "version": 3
   },
   "file_extension": ".py",
   "mimetype": "text/x-python",
   "name": "python",
   "nbconvert_exporter": "python",
   "pygments_lexer": "ipython3",
   "version": "3.9.7"
  },
  "orig_nbformat": 4
 },
 "nbformat": 4,
 "nbformat_minor": 2
}
